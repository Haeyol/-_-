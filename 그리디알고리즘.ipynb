{
  "nbformat": 4,
  "nbformat_minor": 0,
  "metadata": {
    "colab": {
      "provenance": []
    },
    "kernelspec": {
      "name": "python3",
      "display_name": "Python 3"
    },
    "language_info": {
      "name": "python"
    }
  },
  "cells": [
    {
      "cell_type": "markdown",
      "source": [
        "- 그리디 알고리즘(탐욕법):  \n",
        "현재 상황에서 지금 당장 좋은것만 고르는 방법.  \n",
        "문제풀이를 위한 최소한의 아이디어를 떠올리고 그  해법의 정당성 검토가 중요."
      ],
      "metadata": {
        "id": "ZywFx5aBuYo_"
      }
    },
    {
      "cell_type": "markdown",
      "source": [
        "일반적인 상황에서 그리디 알고리즘은 푀적의 해를 보장하지 않을때가 많으나,  \n",
        "코딩 테스트에서 대부분의 그리디 문제는 탐욕법으로 얻은 해가 최적의 해가 되는 상황에서  \n",
        "이를 추론 가능해야 풀리도록 출제된다."
      ],
      "metadata": {
        "id": "IMqa--nUuYmX"
      }
    },
    {
      "cell_type": "markdown",
      "source": [
        "- 11047번 문제:  \n",
        "동전 0"
      ],
      "metadata": {
        "id": "w_5or6vyuYjo"
      }
    },
    {
      "cell_type": "markdown",
      "source": [
        "문제  \n",
        "\n",
        "준규가 가지고 있는 동전은 총 N종류이고, 각각의 동전을 매우 많이 가지고 있다.\n",
        "\n",
        "동전을 적절히 사용해서 그 가치의 합을 K로 만들려고 한다. 이때 필요한 동전 개수의 최솟값을 구하는 프로그램을 작성하시오.\n",
        "\n",
        "입력  \n",
        "\n",
        "첫째 줄에 N과 K가 주어진다. (1 ≤ N ≤ 10, 1 ≤ K ≤ 100,000,000)\n",
        "\n",
        "둘째 줄부터 N개의 줄에 동전의 가치 Ai가 오름차순으로 주어진다. (1 ≤ Ai ≤ 1,000,000, A1 = 1, i ≥ 2인 경우에 Ai는 Ai-1의 배수)\n",
        "\n",
        "출력  \n",
        "\n",
        "첫째 줄에 K원을 만드는데 필요한 동전 개수의 최솟값을 출력한다."
      ],
      "metadata": {
        "id": "pV2rw0blwfYo"
      }
    },
    {
      "cell_type": "code",
      "execution_count": 19,
      "metadata": {
        "id": "UYboeGfETJRU",
        "colab": {
          "base_uri": "https://localhost:8080/"
        },
        "outputId": "ebfd3524-dda1-4b92-a0d5-479e9d9429c9"
      },
      "outputs": [
        {
          "output_type": "stream",
          "name": "stdout",
          "text": [
            "10 4790\n",
            "1\n",
            "5\n",
            "10\n",
            "50\n",
            "100\n",
            "500\n",
            "1000\n",
            "5000\n",
            "10000\n",
            "50000\n",
            "12\n"
          ]
        }
      ],
      "source": [
        "n, k = map(int, input().split())\n",
        "array = []\n",
        "count = 0\n",
        "\n",
        "for i in range(n):\n",
        "    array.append(int(input()))\n",
        "\n",
        "\n",
        "# reversed: 리스트의 요소를 역순으로한 객체를 반환. \n",
        "for i in reversed(range(n)): # i가 n부터  줄어드는 형식으로 반복문 작동.\n",
        "    count = count + (k //array[i]) # 큰 동전의 수부터 세어준다\n",
        "    k = k % array[i] # 큰 동전을 뺄수 있을때까지 뺀 나머지로 값을 할당.\n",
        "\n",
        "print(count)"
      ]
    },
    {
      "cell_type": "markdown",
      "source": [
        "백준문제 1~2개 더풀기"
      ],
      "metadata": {
        "id": "9OUtNmPFHWqI"
      }
    },
    {
      "cell_type": "code",
      "source": [],
      "metadata": {
        "id": "vYTEHj6Y5oti"
      },
      "execution_count": null,
      "outputs": []
    },
    {
      "cell_type": "code",
      "source": [],
      "metadata": {
        "id": "EtRBveSGHTw2"
      },
      "execution_count": null,
      "outputs": []
    },
    {
      "cell_type": "code",
      "source": [],
      "metadata": {
        "id": "1HXNKfb7HTuX"
      },
      "execution_count": null,
      "outputs": []
    }
  ]
}