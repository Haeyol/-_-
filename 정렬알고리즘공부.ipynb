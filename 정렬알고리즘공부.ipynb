{
  "nbformat": 4,
  "nbformat_minor": 0,
  "metadata": {
    "colab": {
      "provenance": []
    },
    "kernelspec": {
      "name": "python3",
      "display_name": "Python 3"
    },
    "language_info": {
      "name": "python"
    }
  },
  "cells": [
    {
      "cell_type": "markdown",
      "source": [
        "[1,10,5,8,7,6,4,3,2,9] 를 정렬"
      ],
      "metadata": {
        "id": "MDyqybdRH-oX"
      }
    },
    {
      "cell_type": "markdown",
      "source": [
        "- 선택정렬:  \n",
        "특정 값을 선택해서 작은 값을 앞으로 보내줌.  \n",
        "자리를 선택후 거기에 들어갈 값을 찾는다."
      ],
      "metadata": {
        "id": "tClO1RxiEoy9"
      }
    },
    {
      "cell_type": "code",
      "execution_count": null,
      "metadata": {
        "id": "TTMbQDizBeos"
      },
      "outputs": [],
      "source": [
        "array = [1,10,5,8,7,6,4,3,2,9]\n",
        "for i in range(10):\n",
        "    min= 99\n",
        "    for j in range(i,10):\n",
        "        if array[j] < min :\n",
        "            min = array[j]\n",
        "            index = j\n",
        "    temp = array[i]\n",
        "    array[i] = array[index]\n",
        "    array[index] = temp"
      ]
    },
    {
      "cell_type": "code",
      "source": [
        "array"
      ],
      "metadata": {
        "colab": {
          "base_uri": "https://localhost:8080/"
        },
        "id": "2lQ8k9qdCtrG",
        "outputId": "a14a66de-4e91-4e72-d03c-c2cc578bfcc5"
      },
      "execution_count": null,
      "outputs": [
        {
          "output_type": "execute_result",
          "data": {
            "text/plain": [
              "[1, 2, 3, 4, 5, 6, 7, 8, 9, 10]"
            ]
          },
          "metadata": {},
          "execution_count": 12
        }
      ]
    },
    {
      "cell_type": "markdown",
      "source": [
        "선택정렬은 데이터가 n개일때 n*(n+1)/2 번(등차수열) 만큼 연산을 한다.  \n",
        "이를 컴퓨터에서는 가장 큰 차수외에는 생략하여 n^2 만큼이라 보고 o(n^2) 라 표현.  \n",
        "-> 비효율적인 알고리즘\n"
      ],
      "metadata": {
        "id": "BtKd0b9dFZpd"
      }
    },
    {
      "cell_type": "markdown",
      "source": [
        "- 버블정렬:  \n",
        "인접한 두 값을 비교해서 조건에 따라 두 값의 자리를 바꿔서 정렬.  \n",
        " 조건에 맞는다면 그대로 두고 조건에 맞지 않는다면 서로 자리를 바꾼다."
      ],
      "metadata": {
        "id": "IfrS9HPFHeXM"
      }
    },
    {
      "cell_type": "code",
      "source": [
        "array = [1,10,5,8,7,6,4,3,2,9]\n",
        "for i in range(10):\n",
        "    for j in range(1,10-i):\n",
        "        if array[j-1] > array[j]:\n",
        "            array[j-1], array[j] =array[j], array[j-1]"
      ],
      "metadata": {
        "id": "ZSTXsOZWJOz8"
      },
      "execution_count": null,
      "outputs": []
    },
    {
      "cell_type": "code",
      "source": [
        "array"
      ],
      "metadata": {
        "colab": {
          "base_uri": "https://localhost:8080/"
        },
        "id": "WAtZpI2vJOpF",
        "outputId": "4805bab4-169b-4ea3-8b2a-7a3c4d137e4f"
      },
      "execution_count": null,
      "outputs": [
        {
          "output_type": "execute_result",
          "data": {
            "text/plain": [
              "[1, 2, 3, 4, 5, 6, 7, 8, 9, 10]"
            ]
          },
          "metadata": {},
          "execution_count": 16
        }
      ]
    },
    {
      "cell_type": "markdown",
      "source": [
        "선택정렬과 시간복잡도는 같으나 더 느리다.  \n",
        "\n",
        "-> 매번 재배열 해야하므로 선택정렬보다 더 비효율적"
      ],
      "metadata": {
        "id": "dd7IRFPTIpRd"
      }
    },
    {
      "cell_type": "markdown",
      "source": [
        "- 삽입정렬:  \n",
        "2번째 원소부터 시작하여 그 앞 원소들과 비교하여 삽입될 위치를  \n",
        "지정 후 삽입."
      ],
      "metadata": {
        "id": "vlfAK1TcIpPG"
      }
    },
    {
      "cell_type": "code",
      "source": [
        "array = [1,10,5,8,7,6,4,3,2,9]\n",
        "for i in range(1, len(array)):\n",
        "    j = i\n",
        "    while(array[j-1] > array[j] and j >= 0):\n",
        "        array[j-1], array[j] = array[j], array[j-1]\n",
        "        j -= 1"
      ],
      "metadata": {
        "id": "KiZ7FG-PHeIV"
      },
      "execution_count": null,
      "outputs": []
    },
    {
      "cell_type": "code",
      "source": [
        "array"
      ],
      "metadata": {
        "id": "j95i3qItCzli",
        "colab": {
          "base_uri": "https://localhost:8080/"
        },
        "outputId": "61990c88-7622-4323-9669-cec414e3ca26"
      },
      "execution_count": null,
      "outputs": [
        {
          "output_type": "execute_result",
          "data": {
            "text/plain": [
              "[1, 2, 3, 4, 5, 6, 7, 8, 9, 10]"
            ]
          },
          "metadata": {},
          "execution_count": 10
        }
      ]
    },
    {
      "cell_type": "markdown",
      "source": [
        "선택정렬과 버블정렬과 마찬가지로 시간복잡도는 o(n^2)이나  \n",
        "둘 보다 훨씬 빠르다. 거의 정렬되어 있는 경우 매우 효율적."
      ],
      "metadata": {
        "id": "c-UKHBn9KNnO"
      }
    },
    {
      "cell_type": "markdown",
      "source": [
        "* 안정 정렬과 불안정 정렬:  \n",
        "안정 정렬(Stable Sort)이란란 중복된 값을 입력 순서와 동일하게 정렬함.  \n",
        "불안정 정렬은 중복된 값을 입력 순서와 상관없이 무작위로 정렬함."
      ],
      "metadata": {
        "id": "GX7TcqRxRfBl"
      }
    },
    {
      "cell_type": "markdown",
      "source": [
        "- 퀵 정렬:  \n",
        "대표적인 '분할 정복'알고리즘.  \n",
        "평균 속도가 O(N*logN)이며 이름처럼 빠른 알고리즘 중 하나이다.  \n",
        "특정 값을 정해 그 값(이 값을 피벗-pivot-이라한다.)보다 작은것은 앞으로, 큰 것은 뒤로 이동시킨다.\n",
        " - 분할 정복: 배열을 나눠서 계산 -> 더 빠름"
      ],
      "metadata": {
        "id": "Rmwtk69PQ-ge"
      }
    },
    {
      "cell_type": "markdown",
      "source": [],
      "metadata": {
        "id": "9om0p4x4R-lG"
      }
    },
    {
      "cell_type": "code",
      "source": [
        "array = [1,10,5,8,7,6,4,3,2,9]\n",
        "\n",
        "def quick_sort(array, start, end):\n",
        "    if start >= end: # 원소가 1개인 경우 종료\n",
        "        return\n",
        "    pivot = start # 피벗은 첫 번째 원소\n",
        "    left = start + 1\n",
        "    right = end\n",
        "    while(left <= right):\n",
        "        # 피벗보다 큰 데이터를 찾을 때까지 반복 \n",
        "        while(left <= end and array[left] <= array[pivot]):\n",
        "            left += 1\n",
        "        # 피벗보다 작은 데이터를 찾을 때까지 반복\n",
        "        while(right > start and array[right] >= array[pivot]):\n",
        "            right -= 1\n",
        "        if(left > right): # 엇갈렸다면(작은 값의 인덱스가 큰값보다 작은경우) 작은 데이터와 피벗을 교체\n",
        "            array[right], array[pivot] = array[pivot], array[right]\n",
        "        else: # 엇갈리지 않았다면 작은 데이터와 큰 데이터를 교체\n",
        "            array[left], array[right] = array[right], array[left]\n",
        "    # 분할 이후 왼쪽 부분과 오른쪽 부분에서 각각 정렬 수행\n",
        "    quick_sort(array, start, right - 1)\n",
        "    quick_sort(array, right + 1, end)\n",
        "\n",
        "quick_sort(array, 0, len(array) - 1)\n",
        "print(array)"
      ],
      "metadata": {
        "colab": {
          "base_uri": "https://localhost:8080/"
        },
        "id": "x-FmlmT1Ja3-",
        "outputId": "de3f8b87-4c25-4f7d-d2eb-5f9a8efcc5f0"
      },
      "execution_count": null,
      "outputs": [
        {
          "output_type": "stream",
          "name": "stdout",
          "text": [
            "[1, 2, 3, 4, 5, 6, 7, 8, 9, 10]\n"
          ]
        }
      ]
    },
    {
      "cell_type": "code",
      "source": [
        "array = [1,10,5,8,7,6,4,3,2,9]\n",
        "\n",
        "def quick_sort(array):\n",
        "    # 리스트가 하나 이하의 원소만을 담고 있다면 종료\n",
        "    if len(array) <= 1:\n",
        "        return array\n",
        "\n",
        "    pivot = array[0] # 피벗은 첫 번째 원소\n",
        "    tail = array[1:] # 피벗을 제외한 리스트\n",
        "\n",
        "    left_side = [x for x in tail if x <= pivot] # 분할된 왼쪽 부분\n",
        "    right_side = [x for x in tail if x > pivot] # 분할된 오른쪽 부분\n",
        "\n",
        "    # 분할 이후 왼쪽 부분과 오른쪽 부분에서 각각 정렬을 수행하고, 전체 리스트를 반환\n",
        "    return quick_sort(left_side) + [pivot] + quick_sort(right_side)\n",
        "\n",
        "print(quick_sort(array))"
      ],
      "metadata": {
        "colab": {
          "base_uri": "https://localhost:8080/"
        },
        "id": "cgSmL-HtcJFQ",
        "outputId": "1ca9c2f9-5f51-4a84-be44-5839cc83018f"
      },
      "execution_count": null,
      "outputs": [
        {
          "output_type": "stream",
          "name": "stdout",
          "text": [
            "[1, 2, 3, 4, 5, 6, 7, 8, 9, 10]\n"
          ]
        }
      ]
    },
    {
      "cell_type": "markdown",
      "source": [
        "일반적인 경우에는 퀵 정렬이 빠르나, 거의 정렬이 되어있는 경우에는 삽입정렬이 빠르다.  \n",
        "-> 최악의 경우 시간복잡도가 O(N^2)"
      ],
      "metadata": {
        "id": "GIeij01tQnO2"
      }
    },
    {
      "cell_type": "markdown",
      "source": [
        "- 2750번 문제:  \n",
        "수 정렬하기"
      ],
      "metadata": {
        "id": "xFsrdpLOSxCu"
      }
    },
    {
      "cell_type": "code",
      "source": [
        "n = int(input())\n",
        "m = []\n",
        "\n",
        "for i in range(n):\n",
        "    m.append(int(input()))\n",
        "\n",
        "m.sort()\n",
        "for i in range(n):\n",
        "    print(m[i])"
      ],
      "metadata": {
        "id": "JefI9Q8ydHMR",
        "colab": {
          "base_uri": "https://localhost:8080/"
        },
        "outputId": "d62c6f7e-ac35-4f59-ae27-ea1c5d64aa66"
      },
      "execution_count": null,
      "outputs": [
        {
          "output_type": "stream",
          "name": "stdout",
          "text": [
            "5\n",
            "1\n",
            "3\n",
            "2\n",
            "4\n",
            "5\n",
            "1\n",
            "2\n",
            "3\n",
            "4\n",
            "5\n"
          ]
        }
      ]
    },
    {
      "cell_type": "markdown",
      "source": [
        "- 2587번 문제:  \n",
        "대표값2"
      ],
      "metadata": {
        "id": "YFIR9VZ2U6yp"
      }
    },
    {
      "cell_type": "code",
      "source": [
        "n = []\n",
        "for i in range(5):\n",
        "    n.append(int(input()))\n",
        "\n",
        "n.sort()\n",
        "avg = round(sum(n)/5)\n",
        "print(avg)\n",
        "print(n[2])"
      ],
      "metadata": {
        "colab": {
          "base_uri": "https://localhost:8080/"
        },
        "id": "0BYRjlaXSwwf",
        "outputId": "aa71390c-051c-437f-bc75-78d708ea8369"
      },
      "execution_count": null,
      "outputs": [
        {
          "output_type": "stream",
          "name": "stdout",
          "text": [
            "10\n",
            "40\n",
            "30\n",
            "60\n",
            "30\n",
            "34\n",
            "30\n"
          ]
        }
      ]
    },
    {
      "cell_type": "markdown",
      "source": [
        "- 25305번 문제:  \n",
        "커트라인"
      ],
      "metadata": {
        "id": "zkLaNVmGV-V_"
      }
    },
    {
      "cell_type": "code",
      "source": [
        "n, k = map(int, input().split())\n",
        "x = list(map(int, (input().split())))\n",
        "\n",
        "x.sort(reverse = True)\n",
        "\n",
        "print(x[k-1])"
      ],
      "metadata": {
        "colab": {
          "base_uri": "https://localhost:8080/"
        },
        "id": "pBCmdzMISwtf",
        "outputId": "6da84f8d-f07e-43f2-d5ff-0f299113db0f"
      },
      "execution_count": null,
      "outputs": [
        {
          "output_type": "stream",
          "name": "stdout",
          "text": [
            "5 2\n",
            "100 76 85 93 98\n",
            "98\n"
          ]
        }
      ]
    },
    {
      "cell_type": "markdown",
      "source": [
        "- 2751번 문제:  \n",
        "수 정렬하기2"
      ],
      "metadata": {
        "id": "me8fSiYnYA2P"
      }
    },
    {
      "cell_type": "code",
      "source": [
        "n = int(input())\n",
        "m = []\n",
        "\n",
        "for i in range(n):\n",
        "    m.append(int(input()))\n",
        "\n",
        "def quick_sort(array):\n",
        "\n",
        "    if len(array) <= 1:\n",
        "        return array\n",
        "\n",
        "    pivot = array[0] \n",
        "    tail = array[1:]\n",
        "\n",
        "    left_side = [x for x in tail if x <= pivot] \n",
        "    right_side = [x for x in tail if x > pivot]\n",
        "\n",
        "    return quick_sort(left_side) + [pivot] + quick_sort(right_side)\n",
        "\n",
        "m = (quick_sort(m))\n",
        "\n",
        "for i in range(n):\n",
        "    print(m[i])"
      ],
      "metadata": {
        "colab": {
          "base_uri": "https://localhost:8080/"
        },
        "id": "ZgdqamS0Ww8g",
        "outputId": "6c6f2f09-4c54-44c6-b69c-70e3d3e7ff1a"
      },
      "execution_count": null,
      "outputs": [
        {
          "output_type": "stream",
          "name": "stdout",
          "text": [
            "5\n",
            "5\n",
            "4\n",
            "3\n",
            "2\n",
            "1\n",
            "1\n",
            "2\n",
            "3\n",
            "4\n",
            "5\n"
          ]
        }
      ]
    },
    {
      "cell_type": "markdown",
      "source": [
        "- 병합정렬:  \n",
        "요소들을 계속 반으로 나눠 더이상 나눌수 없을때까지 나눈 후 다시 합치면서 정렬해가는 방식.  \n",
        "퀵 정렬과 다르게 피벗이 없고 O(N * logN)의 시간복잡도를 보장한다."
      ],
      "metadata": {
        "id": "QzEFTUWS_9QY"
      }
    },
    {
      "cell_type": "code",
      "source": [
        "def merge_sort(arr):\n",
        "    # 나눠질수 없을때까지 반으로 나눔\n",
        "    if len(arr) < 2:\n",
        "        return arr\n",
        "\n",
        "    mid = len(arr) // 2\n",
        "    left_arr = merge_sort(arr[:mid])\n",
        "    right_arr = merge_sort(arr[mid:])\n",
        "\n",
        "    # 분할끝\n",
        "\n",
        "    merged_arr = []\n",
        "    i,j = 0,0\n",
        "    while i < len(left_arr) and j < len(right_arr):\n",
        "        if left_arr[i] < right_arr[j]:#작은쪽을 넣어줌\n",
        "            merged_arr.append(left_arr[i])\n",
        "            i += 1\n",
        "        else:\n",
        "            merged_arr.append(right_arr[j])\n",
        "            j += 1\n",
        "    # 왼쪽이나 오른쪽이 먼저 끝났을경우 나머지를 붙여줌\n",
        "    merged_arr += left_arr[i:]\n",
        "    merged_arr += right_arr[j:]\n",
        "    \n",
        "    return merged_arr\n"
      ],
      "metadata": {
        "id": "GSsswkoMYu6W"
      },
      "execution_count": null,
      "outputs": []
    },
    {
      "cell_type": "code",
      "source": [
        "array = [7,6,5,8,3,5,9,1]\n",
        "merge_sort(array)"
      ],
      "metadata": {
        "colab": {
          "base_uri": "https://localhost:8080/"
        },
        "id": "7nrjTuTLEYfJ",
        "outputId": "6e9d3331-0a36-454d-a212-66209c0705f9"
      },
      "execution_count": null,
      "outputs": [
        {
          "output_type": "execute_result",
          "data": {
            "text/plain": [
              "[1, 3, 5, 5, 6, 7, 8, 9]"
            ]
          },
          "metadata": {},
          "execution_count": 10
        }
      ]
    },
    {
      "cell_type": "markdown",
      "source": [
        "-> 파이썬의 슬라이싱을 이용하여 간단하지만 메모리 비효율이 있다."
      ],
      "metadata": {
        "id": "943zyi2LJl7j"
      }
    },
    {
      "cell_type": "markdown",
      "source": [
        "- 힙 정렬:  \n",
        "힙 트리구조를 이용하는 정렬 방법  \n",
        "  - 완전 이진 트리: 데이터가 루트노드부터 시작해서 왼쪽 자식노드, 오른쪽 자식노드로 차례대로 들어가는 모든 노드의 자식노드 수가 2개 이하인 트리.  \n",
        "  - 힙: 최솟값이나 최대값을 빠르게 찾아내기 위해 완전 이진 트리를 기반으로 하는 트리.  \n",
        "  - 최대 힙: 부모 노드가 자식 노드보다 큰 힙. 즉 더 큰 값이 부모가 된다.  "
      ],
      "metadata": {
        "id": "ZWGUFkRqKlsD"
      }
    },
    {
      "cell_type": "markdown",
      "source": [
        "- 힙 생성 알고리즘:  \n",
        "특정 노드의 두 자식 중 자신보다 더 큰 자식과 자신의 위치를 바꾸는 알고리즘.\n",
        "\n",
        "- 완전 이진 트리 표현 -> 이진 트리에 데이터가 들어가는 순서대로 인덱스를 붙인 배열을 만든다."
      ],
      "metadata": {
        "id": "IqDVc_UqPWay"
      }
    },
    {
      "cell_type": "markdown",
      "source": [
        "즉 최대힙을 만들어서 가장 위에 있는 부모노드와 가장 마지막 자식노드를 바꿔준뒤  \n",
        "그 마지막 노드를 제외하고 다시 최대힙을 만들어주는것을 반복한다."
      ],
      "metadata": {
        "id": "I8cXMm3sBzBe"
      }
    },
    {
      "cell_type": "code",
      "source": [
        "array = [7,6,5,8,3,5,9,1,6]\n",
        "\n",
        "# 배열을 힙 구조로 만들기\n",
        "for i in range(1,len(array)):\n",
        "    c = i\n",
        "    while(True):\n",
        "        root = (c-1) // 2\n",
        "        if(array[root] < array[c]):\n",
        "            array[root], array[c] = array[c], array[root]\n",
        "        c = root\n",
        "        if(c==0):\n",
        "            break\n",
        "# 힙구조 만들기 끝\n",
        "\n",
        "# 최대힙 만들기\n",
        "for i in range(len(array)-1,0,-1):\n",
        "    array[0], array[i] = array[i], array[0]\n",
        "    root = 0\n",
        "    c = 1\n",
        "    while(True):\n",
        "        c = 2 * root + 1  # 부모노드의 첫번째 자식노드의 인덱스\n",
        "        if (c < i - 1 and array[c] < array[c+1]): # 루트의 두 자식중 큰 것 과 비교\n",
        "            c += 1\n",
        "        if (c < i and array[root] < array[c]): # 루트가 자식보다 작을시 둘을 스왑\n",
        "            array[root], array[c] =  array[c], array[root]\n",
        "        root = c\n",
        "        if (c  > i):\n",
        "            break\n",
        "\n",
        "print(array)"
      ],
      "metadata": {
        "id": "6h9Hp0_IFweJ",
        "colab": {
          "base_uri": "https://localhost:8080/"
        },
        "outputId": "21e58577-54f2-4126-8b1b-68c0b358cfe3"
      },
      "execution_count": null,
      "outputs": [
        {
          "output_type": "stream",
          "name": "stdout",
          "text": [
            "[1, 3, 5, 5, 6, 6, 7, 8, 9]\n"
          ]
        }
      ]
    },
    {
      "cell_type": "markdown",
      "source": [
        "힙정렬은 추가적인 배열이 필요하지 않다는 점에서 메모리 측면에서 효율적  \n",
        "-> 힙 정렬의 전체 시간 복잡도는 항상 O(N*logN)을 보장. 단순속도는 퀵정렬이 평균적으로 더 빠름"
      ],
      "metadata": {
        "id": "HdfRr2SVCUDt"
      }
    },
    {
      "cell_type": "markdown",
      "source": [
        "- 계수정렬:  \n",
        "범위 조건이 있는 경우에 한해서 굉장이 빠른 알고리즘.  \n",
        "크기를 기준으로 개수를 세는 알고리즘이다."
      ],
      "metadata": {
        "id": "FXQf_QQY3GLg"
      }
    },
    {
      "cell_type": "code",
      "source": [
        "array = [1,3,2,4,3,2,5,3,1,2,3,4,4,3,5,1,2,3,5,2,3,1,4,3,5,1,2,1,1,1]\n",
        "count = [0] * (max(array)+1)\n",
        "\n",
        "for i in range(len(array)):\n",
        "    count[array[i]] += 1\n",
        "\n",
        "for i in range(len(count)):\n",
        "    for j in range(count[i]):\n",
        "        print(i, end=' ')"
      ],
      "metadata": {
        "id": "HqIdVVnMCaRN",
        "colab": {
          "base_uri": "https://localhost:8080/"
        },
        "outputId": "8aae9cf4-97d3-4af2-eabb-448465a2ae7e"
      },
      "execution_count": 3,
      "outputs": [
        {
          "output_type": "stream",
          "name": "stdout",
          "text": [
            "1 1 1 1 1 1 1 1 2 2 2 2 2 2 3 3 3 3 3 3 3 3 4 4 4 4 5 5 5 5 "
          ]
        }
      ]
    },
    {
      "cell_type": "markdown",
      "source": [
        "-> 시간복잡도와 공간복잡도 모두 O(N+K)이다.  \n",
        "동일한 값을 가지는 데이터가 여러 개 등장할 때 효과적.\n"
      ],
      "metadata": {
        "id": "EsTJ8N347aLs"
      }
    },
    {
      "cell_type": "markdown",
      "source": [
        "- 1181번 문제:  \n",
        "단어 정렬"
      ],
      "metadata": {
        "id": "KQ5Ww-YI8Sib"
      }
    },
    {
      "cell_type": "code",
      "source": [
        "n = int(input())\n",
        "x = []\n",
        "\n",
        "for i in range(n):\n",
        "    x.append(input())\n",
        "\n",
        "x.sort()\n",
        "x.sort(key = len)\n",
        "\n",
        "result = []\n",
        "\n",
        "for i in x:\n",
        "    if i not in result:\n",
        "        result.append(i)\n",
        "\n",
        "for i in range(len(result)):\n",
        "    print(result[i])"
      ],
      "metadata": {
        "colab": {
          "base_uri": "https://localhost:8080/"
        },
        "id": "RhheyCPy5fFs",
        "outputId": "23330253-8c20-4743-e6e0-35a5bf5ddaad"
      },
      "execution_count": 16,
      "outputs": [
        {
          "output_type": "stream",
          "name": "stdout",
          "text": [
            "13\n",
            "but\n",
            "i\n",
            "wont\n",
            "hesitate\n",
            "no\n",
            "more\n",
            "no\n",
            "more\n",
            "it\n",
            "cannot\n",
            "wait\n",
            "im\n",
            "yours\n",
            "i\n",
            "im\n",
            "it\n",
            "no\n",
            "but\n",
            "more\n",
            "wait\n",
            "wont\n",
            "yours\n",
            "cannot\n",
            "hesitate\n"
          ]
        }
      ]
    },
    {
      "cell_type": "markdown",
      "source": [
        "- 1431번 문제:  \n",
        "시리얼 번호"
      ],
      "metadata": {
        "id": "olXLr9sfCSnS"
      }
    },
    {
      "cell_type": "code",
      "source": [],
      "metadata": {
        "id": "MP00eKKl-sWg"
      },
      "execution_count": null,
      "outputs": []
    }
  ]
}